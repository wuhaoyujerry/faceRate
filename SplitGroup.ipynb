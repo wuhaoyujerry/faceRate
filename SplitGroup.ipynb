{
 "cells": [
  {
   "cell_type": "code",
   "execution_count": 18,
   "metadata": {
    "collapsed": true
   },
   "outputs": [],
   "source": [
    "import os\n",
    "import pandas as pd\n",
    "import numpy as np\n",
    "from sklearn.model_selection import train_test_split"
   ]
  },
  {
   "cell_type": "code",
   "execution_count": 19,
   "metadata": {
    "collapsed": true
   },
   "outputs": [],
   "source": [
    "data_df = pd.read_csv('./uid_score_clean_csv')"
   ]
  },
  {
   "cell_type": "code",
   "execution_count": 20,
   "metadata": {
    "collapsed": true
   },
   "outputs": [],
   "source": [
    "userId = data_df['uid'].tolist()\n",
    "userScore = data_df['attractive_score'].tolist()"
   ]
  },
  {
   "cell_type": "code",
   "execution_count": 21,
   "metadata": {
    "collapsed": true
   },
   "outputs": [],
   "source": [
    "user_score_dict = dict(zip(userId, userScore))"
   ]
  },
  {
   "cell_type": "code",
   "execution_count": 31,
   "metadata": {},
   "outputs": [],
   "source": [
    "u02 = []\n",
    "us02 = []\n",
    "u24 = []\n",
    "us24 = []\n",
    "u46 = []\n",
    "us46 = []\n",
    "u60 = []\n",
    "us60 = []\n",
    "for eachUser in user_score_dict:\n",
    "    if user_score_dict[eachUser] >= 0 and user_score_dict[eachUser] < 0.2:\n",
    "        u02.append(eachUser)\n",
    "        us02.append(user_score_dict[eachUser])\n",
    "    elif user_score_dict[eachUser] >= 0.2 and user_score_dict[eachUser] < 0.4:\n",
    "        u24.append(eachUser)\n",
    "        us24.append(user_score_dict[eachUser])\n",
    "    elif user_score_dict[eachUser] >= 0.4 and user_score_dict[eachUser] < 0.6:\n",
    "        u46.append(eachUser)\n",
    "        us46.append(user_score_dict[eachUser])\n",
    "    else:\n",
    "        u60.append(eachUser)\n",
    "        us60.append(user_score_dict[eachUser])"
   ]
  },
  {
   "cell_type": "code",
   "execution_count": 32,
   "metadata": {},
   "outputs": [
    {
     "name": "stdout",
     "output_type": "stream",
     "text": [
      "0-2: 70354\n",
      "2-4: 51605\n",
      "4-6: 53151\n",
      "6-10: 51396\n"
     ]
    }
   ],
   "source": [
    "print(\"0-2: \" + str(len(u02)))\n",
    "print(\"2-4: \" + str(len(u24)))\n",
    "print(\"4-6: \" + str(len(u46)))\n",
    "print(\"6-10: \" + str(len(u60)))"
   ]
  },
  {
   "cell_type": "code",
   "execution_count": 23,
   "metadata": {},
   "outputs": [],
   "source": [
    "df_02 = pd.DataFrame({'uid': u02, 'attractive_score': us02})\n",
    "df_24 = pd.DataFrame({'uid': u24, 'attractive_score': us24})\n",
    "df_46 = pd.DataFrame({'uid': u46, 'attractive_score': us46})\n",
    "df_60 = pd.DataFrame({'uid': u60, 'attractive_score': us60})"
   ]
  },
  {
   "cell_type": "code",
   "execution_count": 24,
   "metadata": {
    "collapsed": true
   },
   "outputs": [],
   "source": [
    "df_02.to_csv('uid_score_02_csv', index=False)\n",
    "df_24.to_csv('uid_score_24_csv', index=False)\n",
    "df_46.to_csv('uid_score_46_csv', index=False)\n",
    "df_60.to_csv('uid_score_60_csv', index=False)"
   ]
  },
  {
   "cell_type": "code",
   "execution_count": null,
   "metadata": {
    "collapsed": true
   },
   "outputs": [],
   "source": []
  }
 ],
 "metadata": {
  "kernelspec": {
   "display_name": "Python 3",
   "language": "python",
   "name": "python3"
  },
  "language_info": {
   "codemirror_mode": {
    "name": "ipython",
    "version": 3
   },
   "file_extension": ".py",
   "mimetype": "text/x-python",
   "name": "python",
   "nbconvert_exporter": "python",
   "pygments_lexer": "ipython3",
   "version": "3.6.2"
  }
 },
 "nbformat": 4,
 "nbformat_minor": 2
}
