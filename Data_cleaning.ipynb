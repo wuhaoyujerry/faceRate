{
 "cells": [
  {
   "cell_type": "code",
   "execution_count": 1,
   "metadata": {
    "collapsed": true
   },
   "outputs": [],
   "source": [
    "import os\n",
    "import pandas as pd\n",
    "import numpy as np\n",
    "from sklearn.model_selection import train_test_split"
   ]
  },
  {
   "cell_type": "code",
   "execution_count": 2,
   "metadata": {
    "collapsed": true
   },
   "outputs": [],
   "source": [
    "data_df = pd.read_csv('./uid_score.csv')\n",
    "userId = data_df['uid'].tolist()\n",
    "userScore = data_df['attractive_score'].tolist()\n",
    "user_score_dict = dict(zip(userId, userScore))"
   ]
  },
  {
   "cell_type": "code",
   "execution_count": 10,
   "metadata": {
    "collapsed": true
   },
   "outputs": [],
   "source": [
    "userId_clean = []\n",
    "userScore_clean = []\n",
    "for eachUser in user_score_dict:\n",
    "    path = './photos2/' + str(eachUser) + '.jpg'\n",
    "    if os.path.exists(path):\n",
    "        userId_clean.append(eachUser)\n",
    "        userScore_clean.append(user_score_dict[eachUser])"
   ]
  },
  {
   "cell_type": "code",
   "execution_count": 12,
   "metadata": {
    "collapsed": true
   },
   "outputs": [],
   "source": [
    "dataframe = pd.DataFrame({'uid': userId_clean, 'attractive_score': userScore_clean})\n",
    "dataframe.to_csv('uid_score_clean_csv', index=False)"
   ]
  },
  {
   "cell_type": "code",
   "execution_count": 14,
   "metadata": {
    "collapsed": true
   },
   "outputs": [],
   "source": [
    "train_data_df = pd.read_csv('./train_data.csv')\n",
    "train_user_score_dict = dict(zip(train_data_df['uid'].tolist(), train_data_df['attractive_score'].tolist()))"
   ]
  },
  {
   "cell_type": "code",
   "execution_count": 15,
   "metadata": {
    "collapsed": true
   },
   "outputs": [],
   "source": [
    "train_userId_clean = []\n",
    "train_userScore_clean = []\n",
    "for eachUser in train_user_score_dict:\n",
    "    path = './photos2/' + str(eachUser) + '.jpg'\n",
    "    if os.path.exists(path):\n",
    "        train_userId_clean.append(eachUser)\n",
    "        train_userScore_clean.append(train_user_score_dict[eachUser])\n",
    "dataframe = pd.DataFrame({'uid': train_userId_clean, 'attractive_score': train_userScore_clean})\n",
    "dataframe.to_csv('train_data_clean_csv', index=False)"
   ]
  },
  {
   "cell_type": "code",
   "execution_count": 16,
   "metadata": {
    "collapsed": true
   },
   "outputs": [],
   "source": [
    "test_data_df = pd.read_csv('./test_data.csv')\n",
    "test_user_score_dict = dict(zip(test_data_df['uid'].tolist(), test_data_df['attractive_score'].tolist()))"
   ]
  },
  {
   "cell_type": "code",
   "execution_count": 17,
   "metadata": {
    "collapsed": true
   },
   "outputs": [],
   "source": [
    "test_userId_clean = []\n",
    "test_userScore_clean = []\n",
    "for eachUser in test_user_score_dict:\n",
    "    path = './photos2/' + str(eachUser) + '.jpg'\n",
    "    if os.path.exists(path):\n",
    "        test_userId_clean.append(eachUser)\n",
    "        test_userScore_clean.append(test_user_score_dict[eachUser])\n",
    "dataframe = pd.DataFrame({'uid': test_userId_clean, 'attractive_score': test_userScore_clean})\n",
    "dataframe.to_csv('test_data_clean_csv', index=False)"
   ]
  },
  {
   "cell_type": "code",
   "execution_count": 18,
   "metadata": {},
   "outputs": [
    {
     "data": {
      "text/plain": [
       "True"
      ]
     },
     "execution_count": 18,
     "metadata": {},
     "output_type": "execute_result"
    }
   ],
   "source": [
    "user_score_dict[test_userId_clean[0]] == test_userScore_clean[0]"
   ]
  },
  {
   "cell_type": "code",
   "execution_count": 19,
   "metadata": {},
   "outputs": [
    {
     "data": {
      "text/plain": [
       "True"
      ]
     },
     "execution_count": 19,
     "metadata": {},
     "output_type": "execute_result"
    }
   ],
   "source": [
    "user_score_dict[train_userId_clean[0]] == train_userScore_clean[0]"
   ]
  },
  {
   "cell_type": "code",
   "execution_count": 20,
   "metadata": {},
   "outputs": [
    {
     "data": {
      "text/plain": [
       "608285"
      ]
     },
     "execution_count": 20,
     "metadata": {},
     "output_type": "execute_result"
    }
   ],
   "source": [
    "train_userId_clean[1]"
   ]
  },
  {
   "cell_type": "code",
   "execution_count": 21,
   "metadata": {},
   "outputs": [
    {
     "data": {
      "text/plain": [
       "0.07432430237531662"
      ]
     },
     "execution_count": 21,
     "metadata": {},
     "output_type": "execute_result"
    }
   ],
   "source": [
    "train_userScore_clean[1]"
   ]
  },
  {
   "cell_type": "code",
   "execution_count": null,
   "metadata": {
    "collapsed": true
   },
   "outputs": [],
   "source": []
  }
 ],
 "metadata": {
  "kernelspec": {
   "display_name": "Python 3",
   "language": "python",
   "name": "python3"
  },
  "language_info": {
   "codemirror_mode": {
    "name": "ipython",
    "version": 3
   },
   "file_extension": ".py",
   "mimetype": "text/x-python",
   "name": "python",
   "nbconvert_exporter": "python",
   "pygments_lexer": "ipython3",
   "version": "3.6.2"
  }
 },
 "nbformat": 4,
 "nbformat_minor": 2
}
